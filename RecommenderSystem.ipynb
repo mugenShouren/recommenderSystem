{
 "cells": [
  {
   "cell_type": "code",
   "execution_count": 39,
   "metadata": {},
   "outputs": [],
   "source": [
    "import pandas as pd\n",
    "import numpy as np\n",
    "from datetime import datetime"
   ]
  },
  {
   "cell_type": "code",
   "execution_count": 2,
   "metadata": {},
   "outputs": [],
   "source": [
    "src = r'D:\\++PROJECT++\\DATASETS\\sony_RS\\\\'"
   ]
  },
  {
   "cell_type": "markdown",
   "metadata": {},
   "source": [
    "### Data exploration"
   ]
  },
  {
   "cell_type": "code",
   "execution_count": 11,
   "metadata": {},
   "outputs": [],
   "source": [
    "df_contents = pd.read_csv(src+r'content.csv')\n",
    "df_users = pd.read_csv(src+r'user.csv')\n",
    "df_rel = pd.read_csv(src+r'relationship.csv')"
   ]
  },
  {
   "cell_type": "code",
   "execution_count": 13,
   "metadata": {},
   "outputs": [
    {
     "name": "stdout",
     "output_type": "stream",
     "text": [
      "48645\n"
     ]
    },
    {
     "data": {
      "text/html": [
       "<div>\n",
       "<style scoped>\n",
       "    .dataframe tbody tr th:only-of-type {\n",
       "        vertical-align: middle;\n",
       "    }\n",
       "\n",
       "    .dataframe tbody tr th {\n",
       "        vertical-align: top;\n",
       "    }\n",
       "\n",
       "    .dataframe thead th {\n",
       "        text-align: right;\n",
       "    }\n",
       "</style>\n",
       "<table border=\"1\" class=\"dataframe\">\n",
       "  <thead>\n",
       "    <tr style=\"text-align: right;\">\n",
       "      <th></th>\n",
       "      <th>content_id</th>\n",
       "      <th>content_type</th>\n",
       "      <th>language</th>\n",
       "      <th>genre</th>\n",
       "      <th>duration</th>\n",
       "      <th>release_date</th>\n",
       "      <th>rating</th>\n",
       "      <th>episode_count</th>\n",
       "      <th>season_count</th>\n",
       "    </tr>\n",
       "  </thead>\n",
       "  <tbody>\n",
       "    <tr>\n",
       "      <th>0</th>\n",
       "      <td>cont_475_19_32</td>\n",
       "      <td>series</td>\n",
       "      <td>english</td>\n",
       "      <td>drama</td>\n",
       "      <td>4980000</td>\n",
       "      <td>2018-07-01</td>\n",
       "      <td>10</td>\n",
       "      <td>32</td>\n",
       "      <td>19</td>\n",
       "    </tr>\n",
       "    <tr>\n",
       "      <th>1</th>\n",
       "      <td>cont_2185_15_21</td>\n",
       "      <td>series</td>\n",
       "      <td>english</td>\n",
       "      <td>drama</td>\n",
       "      <td>3000000</td>\n",
       "      <td>2016-03-29</td>\n",
       "      <td>4</td>\n",
       "      <td>21</td>\n",
       "      <td>15</td>\n",
       "    </tr>\n",
       "    <tr>\n",
       "      <th>2</th>\n",
       "      <td>cont_4857_13_28</td>\n",
       "      <td>series</td>\n",
       "      <td>tamil</td>\n",
       "      <td>comedy</td>\n",
       "      <td>3120000</td>\n",
       "      <td>2006-03-06</td>\n",
       "      <td>8</td>\n",
       "      <td>28</td>\n",
       "      <td>13</td>\n",
       "    </tr>\n",
       "    <tr>\n",
       "      <th>3</th>\n",
       "      <td>cont_3340_1_5</td>\n",
       "      <td>sports</td>\n",
       "      <td>hindi</td>\n",
       "      <td>cricket</td>\n",
       "      <td>9900000</td>\n",
       "      <td>2009-01-10</td>\n",
       "      <td>0</td>\n",
       "      <td>5</td>\n",
       "      <td>1</td>\n",
       "    </tr>\n",
       "    <tr>\n",
       "      <th>4</th>\n",
       "      <td>cont_1664_10_29</td>\n",
       "      <td>series</td>\n",
       "      <td>hindi</td>\n",
       "      <td>action</td>\n",
       "      <td>3660000</td>\n",
       "      <td>2020-05-25</td>\n",
       "      <td>2</td>\n",
       "      <td>29</td>\n",
       "      <td>10</td>\n",
       "    </tr>\n",
       "  </tbody>\n",
       "</table>\n",
       "</div>"
      ],
      "text/plain": [
       "        content_id content_type language    genre  duration release_date  \\\n",
       "0   cont_475_19_32       series  english    drama   4980000   2018-07-01   \n",
       "1  cont_2185_15_21       series  english    drama   3000000   2016-03-29   \n",
       "2  cont_4857_13_28       series    tamil   comedy   3120000   2006-03-06   \n",
       "3    cont_3340_1_5       sports    hindi  cricket   9900000   2009-01-10   \n",
       "4  cont_1664_10_29       series    hindi   action   3660000   2020-05-25   \n",
       "\n",
       "   rating  episode_count  season_count  \n",
       "0      10             32            19  \n",
       "1       4             21            15  \n",
       "2       8             28            13  \n",
       "3       0              5             1  \n",
       "4       2             29            10  "
      ]
     },
     "execution_count": 13,
     "metadata": {},
     "output_type": "execute_result"
    }
   ],
   "source": [
    "print(len(df_contents))\n",
    "df_contents.head()"
   ]
  },
  {
   "cell_type": "code",
   "execution_count": 20,
   "metadata": {},
   "outputs": [
    {
     "name": "stdout",
     "output_type": "stream",
     "text": [
      "13843\n"
     ]
    },
    {
     "data": {
      "text/html": [
       "<div>\n",
       "<style scoped>\n",
       "    .dataframe tbody tr th:only-of-type {\n",
       "        vertical-align: middle;\n",
       "    }\n",
       "\n",
       "    .dataframe tbody tr th {\n",
       "        vertical-align: top;\n",
       "    }\n",
       "\n",
       "    .dataframe thead th {\n",
       "        text-align: right;\n",
       "    }\n",
       "</style>\n",
       "<table border=\"1\" class=\"dataframe\">\n",
       "  <thead>\n",
       "    <tr style=\"text-align: right;\">\n",
       "      <th></th>\n",
       "      <th>user_id</th>\n",
       "      <th>user_age</th>\n",
       "      <th>gender</th>\n",
       "      <th>location</th>\n",
       "      <th>joining_date</th>\n",
       "    </tr>\n",
       "  </thead>\n",
       "  <tbody>\n",
       "    <tr>\n",
       "      <th>0</th>\n",
       "      <td>user_45028@domain.com</td>\n",
       "      <td>40</td>\n",
       "      <td>1</td>\n",
       "      <td>Goa</td>\n",
       "      <td>2018-06-18</td>\n",
       "    </tr>\n",
       "    <tr>\n",
       "      <th>1</th>\n",
       "      <td>user_95235@domain.com</td>\n",
       "      <td>55</td>\n",
       "      <td>0</td>\n",
       "      <td>Andhra Pradesh</td>\n",
       "      <td>2019-09-17</td>\n",
       "    </tr>\n",
       "    <tr>\n",
       "      <th>2</th>\n",
       "      <td>user_44289@domain.com</td>\n",
       "      <td>38</td>\n",
       "      <td>0</td>\n",
       "      <td>Goa</td>\n",
       "      <td>2018-09-03</td>\n",
       "    </tr>\n",
       "    <tr>\n",
       "      <th>3</th>\n",
       "      <td>user_23708@domain.com</td>\n",
       "      <td>47</td>\n",
       "      <td>0</td>\n",
       "      <td>West Bengal</td>\n",
       "      <td>2020-11-15</td>\n",
       "    </tr>\n",
       "    <tr>\n",
       "      <th>4</th>\n",
       "      <td>user_40584@domain.com</td>\n",
       "      <td>24</td>\n",
       "      <td>1</td>\n",
       "      <td>Tamil Nadu</td>\n",
       "      <td>2018-02-06</td>\n",
       "    </tr>\n",
       "  </tbody>\n",
       "</table>\n",
       "</div>"
      ],
      "text/plain": [
       "                 user_id  user_age  gender        location joining_date\n",
       "0  user_45028@domain.com        40       1             Goa   2018-06-18\n",
       "1  user_95235@domain.com        55       0  Andhra Pradesh   2019-09-17\n",
       "2  user_44289@domain.com        38       0             Goa   2018-09-03\n",
       "3  user_23708@domain.com        47       0     West Bengal   2020-11-15\n",
       "4  user_40584@domain.com        24       1      Tamil Nadu   2018-02-06"
      ]
     },
     "execution_count": 20,
     "metadata": {},
     "output_type": "execute_result"
    }
   ],
   "source": [
    "print(len(df_users))\n",
    "df_users['gender'].replace(to_replace = 'M', value = 1, inplace = True)\n",
    "df_users['gender'].replace(to_replace = 'F', value = 0, inplace = True)\n",
    "df_users.head()"
   ]
  },
  {
   "cell_type": "code",
   "execution_count": 17,
   "metadata": {},
   "outputs": [
    {
     "name": "stdout",
     "output_type": "stream",
     "text": [
      "1654450\n"
     ]
    },
    {
     "data": {
      "text/html": [
       "<div>\n",
       "<style scoped>\n",
       "    .dataframe tbody tr th:only-of-type {\n",
       "        vertical-align: middle;\n",
       "    }\n",
       "\n",
       "    .dataframe tbody tr th {\n",
       "        vertical-align: top;\n",
       "    }\n",
       "\n",
       "    .dataframe thead th {\n",
       "        text-align: right;\n",
       "    }\n",
       "</style>\n",
       "<table border=\"1\" class=\"dataframe\">\n",
       "  <thead>\n",
       "    <tr style=\"text-align: right;\">\n",
       "      <th></th>\n",
       "      <th>user_id</th>\n",
       "      <th>content_id</th>\n",
       "      <th>duration</th>\n",
       "      <th>date</th>\n",
       "      <th>start_time</th>\n",
       "      <th>end_time</th>\n",
       "    </tr>\n",
       "  </thead>\n",
       "  <tbody>\n",
       "    <tr>\n",
       "      <th>0</th>\n",
       "      <td>user_44902@domain.com</td>\n",
       "      <td>cont_1718_16_7</td>\n",
       "      <td>1920000</td>\n",
       "      <td>2020-06-17</td>\n",
       "      <td>06:19:13</td>\n",
       "      <td>06:51:13</td>\n",
       "    </tr>\n",
       "    <tr>\n",
       "      <th>1</th>\n",
       "      <td>user_87018@domain.com</td>\n",
       "      <td>cont_825_1_3</td>\n",
       "      <td>1080000</td>\n",
       "      <td>2019-12-06</td>\n",
       "      <td>19:58:14</td>\n",
       "      <td>20:16:14</td>\n",
       "    </tr>\n",
       "    <tr>\n",
       "      <th>2</th>\n",
       "      <td>user_53430@domain.com</td>\n",
       "      <td>cont_1981_2_26</td>\n",
       "      <td>180000</td>\n",
       "      <td>2020-07-27</td>\n",
       "      <td>01:52:51</td>\n",
       "      <td>01:55:51</td>\n",
       "    </tr>\n",
       "    <tr>\n",
       "      <th>3</th>\n",
       "      <td>user_53696@domain.com</td>\n",
       "      <td>cont_1072_18_7</td>\n",
       "      <td>1440000</td>\n",
       "      <td>2021-08-24</td>\n",
       "      <td>06:34:14</td>\n",
       "      <td>06:58:14</td>\n",
       "    </tr>\n",
       "    <tr>\n",
       "      <th>4</th>\n",
       "      <td>user_80251@domain.com</td>\n",
       "      <td>cont_760_9_27</td>\n",
       "      <td>960000</td>\n",
       "      <td>2020-06-15</td>\n",
       "      <td>16:57:19</td>\n",
       "      <td>17:13:19</td>\n",
       "    </tr>\n",
       "  </tbody>\n",
       "</table>\n",
       "</div>"
      ],
      "text/plain": [
       "                 user_id      content_id  duration        date start_time  \\\n",
       "0  user_44902@domain.com  cont_1718_16_7   1920000  2020-06-17   06:19:13   \n",
       "1  user_87018@domain.com    cont_825_1_3   1080000  2019-12-06   19:58:14   \n",
       "2  user_53430@domain.com  cont_1981_2_26    180000  2020-07-27   01:52:51   \n",
       "3  user_53696@domain.com  cont_1072_18_7   1440000  2021-08-24   06:34:14   \n",
       "4  user_80251@domain.com   cont_760_9_27    960000  2020-06-15   16:57:19   \n",
       "\n",
       "   end_time  \n",
       "0  06:51:13  \n",
       "1  20:16:14  \n",
       "2  01:55:51  \n",
       "3  06:58:14  \n",
       "4  17:13:19  "
      ]
     },
     "execution_count": 17,
     "metadata": {},
     "output_type": "execute_result"
    }
   ],
   "source": [
    "print(len(df_rel))\n",
    "df_rel.head()"
   ]
  },
  {
   "cell_type": "markdown",
   "metadata": {},
   "source": [
    "### Pre-processing\n",
    "- Creating the inference table"
   ]
  },
  {
   "cell_type": "code",
   "execution_count": 30,
   "metadata": {},
   "outputs": [
    {
     "name": "stdout",
     "output_type": "stream",
     "text": [
      "['Tamil Nadu', 'Meghalaya', 'Manipur', 'Telangana', 'Punjab', 'Haryana', 'Himachal Pradesh', 'Madhya Pradesh', 'Goa', 'Mizoram', 'Bihar', 'Gujarat', 'Assam', 'Chhattisgarh', 'Odisa', 'Jharkhand', 'Tripura', 'Delhi', 'Kerala', 'Uttar Pradesh', 'Karnataka', 'Rajasthan', 'Maharashtra', 'Arunachal Pradesh', 'West Bengal', 'Uttarakhand', 'Sikkim', 'Nagaland', 'Andhra Pradesh']\n"
     ]
    }
   ],
   "source": [
    "locations = list(set(df_users['location'].values.tolist()))\n",
    "print(locations)\n",
    "loc_rep = {}\n",
    "for index, i in enumerate(locations):\n",
    "    loc_rep[i] = index\n",
    "df_users['location'].replace(to_replace = loc_rep, inplace = True)"
   ]
  },
  {
   "cell_type": "markdown",
   "metadata": {},
   "source": [
    "***\n",
    "#### Need to update location codes by distance between the location, capturing regional content"
   ]
  },
  {
   "cell_type": "code",
   "execution_count": 69,
   "metadata": {},
   "outputs": [],
   "source": [
    "## updating joining date with timestamp\n",
    "df_users['joining_date'] = df_users['joining_date'].apply(lambda x: datetime.timestamp(datetime.strptime(str(x).strip(), '%Y-%m-%d'))) "
   ]
  },
  {
   "cell_type": "code",
   "execution_count": 71,
   "metadata": {
    "scrolled": true
   },
   "outputs": [],
   "source": [
    "ss = df_users.loc[:,['user_age','gender','location','joining_date']].to_numpy()"
   ]
  },
  {
   "cell_type": "code",
   "execution_count": 72,
   "metadata": {},
   "outputs": [
    {
     "name": "stdout",
     "output_type": "stream",
     "text": [
      "[[4.0000000e+01 1.0000000e+00 8.0000000e+00 1.5292602e+09]\n",
      " [5.5000000e+01 0.0000000e+00 2.8000000e+01 1.5686586e+09]\n",
      " [3.8000000e+01 0.0000000e+00 8.0000000e+00 1.5359130e+09]\n",
      " ...\n",
      " [1.9000000e+01 0.0000000e+00 9.0000000e+00 1.5672762e+09]\n",
      " [5.2000000e+01 1.0000000e+00 1.8000000e+01 1.5796314e+09]\n",
      " [1.9000000e+01 1.0000000e+00 5.0000000e+00 1.5945786e+09]]\n"
     ]
    }
   ],
   "source": [
    "print(ss)"
   ]
  },
  {
   "cell_type": "code",
   "execution_count": null,
   "metadata": {},
   "outputs": [],
   "source": []
  }
 ],
 "metadata": {
  "kernelspec": {
   "display_name": "Python 3",
   "language": "python",
   "name": "python3"
  },
  "language_info": {
   "codemirror_mode": {
    "name": "ipython",
    "version": 3
   },
   "file_extension": ".py",
   "mimetype": "text/x-python",
   "name": "python",
   "nbconvert_exporter": "python",
   "pygments_lexer": "ipython3",
   "version": "3.7.3"
  }
 },
 "nbformat": 4,
 "nbformat_minor": 2
}
